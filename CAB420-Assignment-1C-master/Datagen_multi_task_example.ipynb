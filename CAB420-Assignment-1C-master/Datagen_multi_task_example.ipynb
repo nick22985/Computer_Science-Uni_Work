{
 "cells": [
  {
   "cell_type": "markdown",
   "metadata": {},
   "source": [
    "# CAB420: Data Generators for Multi-Task Models\n",
    "Ethan Goan, Dr Simon Denman (s.denman@qut.edu.au)\n",
    "\n",
    "## Overview \n",
    "\n",
    "This is a quick demo on how to make a data generator that includes image augmentation for a multi output model, and may be of used for Q2 of assignment 1C.\n",
    "\n",
    "### Note\n",
    "\n",
    "The network we are making doesn't do anything usefull. It has two tasks, but they are both operating on the same data labels, so what it's really doing is the same thing twice. However, this does provide an example of how you can use augmentation in a multi-task model."
   ]
  },
  {
   "cell_type": "code",
   "execution_count": 1,
   "metadata": {},
   "outputs": [],
   "source": [
    "import numpy as np\n",
    "\n",
    "import tensorflow as tf\n",
    "from tensorflow import keras\n",
    "from tensorflow.keras import layers\n",
    "from tensorflow.keras import activations\n",
    "from tensorflow.keras.preprocessing.image import ImageDataGenerator\n",
    "import matplotlib.pyplot as plt"
   ]
  },
  {
   "cell_type": "markdown",
   "metadata": {},
   "source": [
    "## Data\n",
    "\n",
    "We'll just use Fashion MNIST, and we'll remove most of the samples too as we're using augmentation."
   ]
  },
  {
   "cell_type": "code",
   "execution_count": 2,
   "metadata": {},
   "outputs": [
    {
     "name": "stdout",
     "output_type": "stream",
     "text": [
      "(3000, 28, 28, 1)\n",
      "(3000, 1)\n"
     ]
    }
   ],
   "source": [
    "(x_train, y_train), (x_test, y_test) = keras.datasets.fashion_mnist.load_data()\n",
    "x_train = x_train.reshape(x_train.shape[0], 28, 28, 1).astype('float32') / 255.0\n",
    "y_train = y_train.reshape(y_train.shape[0], 1)\n",
    "x_test = x_test.reshape(x_test.shape[0], 28, 28, 1).astype('float32') / 255.0\n",
    "y_test = y_test.reshape(y_test.shape[0], 1)\n",
    "\n",
    "# remove 95% of the data, just take every 20th element\n",
    "x_train = x_train[1::20, :, :, :]\n",
    "print(np.shape(x_train))\n",
    "y_train = y_train[1::20, :]\n",
    "print(np.shape(y_train))"
   ]
  },
  {
   "cell_type": "markdown",
   "metadata": {},
   "source": [
    "## Creating a Data Generator\n",
    "\n",
    "We need to create a custom generator for the sequence, which will allow us to output to augmented data and the multiple ground trth labels. \n",
    "\n",
    "This has largely been taken from https://stanford.edu/~shervine/blog/keras-how-to-generate-data-on-the-fly\n",
    "\n",
    "If you wish to adapt this, the `__init__` and `__data_generation` methods are the most critical."
   ]
  },
  {
   "cell_type": "code",
   "execution_count": 3,
   "metadata": {},
   "outputs": [],
   "source": [
    "# Class for the data generator\n",
    "class DataGenerator(keras.utils.Sequence):\n",
    "    'Generates data for Keras'\n",
    "    \n",
    "    # Input arguments are as follows:\n",
    "    #  x:            our X data array that we'll augment\n",
    "    #  y_one:        y labels for the first output\n",
    "    #  y_two:        y labels for the second ouput\n",
    "    #  data_aug:     our data augmentor\n",
    "    #  batch_size:   the batch size to return from the generator\n",
    "    #  dim:          size of images\n",
    "    #  n_channels:   number of image channels\n",
    "    #  shuffle:      flag to indicate if we should shuffle the data at the end of the epoch\n",
    "    def __init__(self, x, y_one, y_two, data_aug,                 \n",
    "                 batch_size=32, dim=(28,28), n_channels=1,\n",
    "                 shuffle=True):\n",
    "        'Initialization'\n",
    "        self.dim = dim\n",
    "        self.batch_size = batch_size\n",
    "        self.x = x\n",
    "        self.y_one = y_one\n",
    "        self.y_two = y_two\n",
    "        self.data_aug = data_aug\n",
    "        self.list_IDs = np.arange(0, self.x.shape[0])\n",
    "        self.n_channels = n_channels\n",
    "        self.shuffle = shuffle\n",
    "        self.on_epoch_end()\n",
    "\n",
    "    def __len__(self):\n",
    "        'Denotes the number of batches per epoch'\n",
    "        return int(np.floor(len(self.list_IDs) / self.batch_size))\n",
    "\n",
    "    def __getitem__(self, index):\n",
    "        'Generate one batch of data'\n",
    "        # Generate indexes of the batch\n",
    "        indexes = self.indexes[index*self.batch_size:(index+1)*self.batch_size]\n",
    "\n",
    "        # Find list of IDs\n",
    "        list_IDs_temp = [self.list_IDs[k] for k in indexes]\n",
    "\n",
    "        # Generate data\n",
    "        X, y = self.__data_generation(list_IDs_temp)\n",
    "\n",
    "        return X, y\n",
    "\n",
    "    def on_epoch_end(self):\n",
    "        'Updates indexes after each epoch'\n",
    "        self.indexes = np.arange(len(self.list_IDs))\n",
    "        if self.shuffle == True:\n",
    "            np.random.shuffle(self.indexes)\n",
    "            \n",
    "\n",
    "    # Function to generate data. This will take in a list of sample indicies, and then for each\n",
    "    # these apply augmentation, and return the augmented data and labels\n",
    "    #\n",
    "    # If you wish to check the mechanics out in more detail, you can uncomment the two print lines\n",
    "    # which will show you the IDs that are being manipulated and help show what's going on - however\n",
    "    # this will also generate a lot of output text during model training.\n",
    "    #\n",
    "    def __data_generation(self, list_IDs_temp):\n",
    "        'Generates data containing batch_size samples' # X : (n_samples, *dim, n_channels)\n",
    "        # Initialization - creating space for X and y data\n",
    "#        print(list_IDs_temp)\n",
    "        X = np.empty((self.batch_size, *self.dim, self.n_channels))\n",
    "        # creating a list of empty arrays to hold our data labels. \n",
    "        # would initialise this for the number of output labels we have\n",
    "        y = [np.empty((self.batch_size), dtype=int),\n",
    "             np.empty((self.batch_size), dtype=int)]\n",
    "\n",
    "        # Generate data, loop through the list of IDs we have and generate data for each in turn\n",
    "        for i, ID in enumerate(list_IDs_temp):\n",
    "#            print(ID)\n",
    "            # apply random transformation based of our datagen instance\n",
    "            X[i,] = self.data_aug.random_transform(self.x[ID,])\n",
    "            # copy our y labels across\n",
    "            y[0][i,] = self.y_one[ID]\n",
    "            y[1][i,] = self.y_two[ID]\n",
    "        return X, y"
   ]
  },
  {
   "cell_type": "markdown",
   "metadata": {},
   "source": [
    "### Data Augmentation\n",
    "\n",
    "We can use Keras' existing data augmentor here. We'll deliberately create some fairly wild and extreme augmentation parameters. These parameters are really not suitable, but as a demo it makes it really obvious that augmentation is happening. Just be warned: **we do not recommend that you copy these augmentation parameters**."
   ]
  },
  {
   "cell_type": "code",
   "execution_count": 4,
   "metadata": {},
   "outputs": [],
   "source": [
    "# creating image aug with some really wild and extreme augmentation params\n",
    "# Ad noted above: these params are not suitable, just used to demo it in practice\n",
    "data_aug = ImageDataGenerator(\n",
    "                            # rotate between -45, +45 degrees\n",
    "                            rotation_range=45,\n",
    "                            # horiziontal shift by +/- 50% of the image width\n",
    "                            width_shift_range=0.5,\n",
    "                            # vertical shift by +/- 50% of the image width\n",
    "                            height_shift_range=0.5,\n",
    "                            # range for randomly applying a shearing transform\n",
    "                            shear_range=0.5,\n",
    "                            # range for zooming\n",
    "                            zoom_range=0.5,\n",
    "                            # allow horizontal flips of data\n",
    "                            horizontal_flip=True,\n",
    "                            # what value to place in new pixels, given the nature of our data (clothes on a black backround)\n",
    "                            # we'll set this to a constant value of 0\n",
    "                            fill_mode='constant', cval=0)"
   ]
  },
  {
   "cell_type": "markdown",
   "metadata": {},
   "source": [
    "### Putting it Together\n",
    "\n",
    "We'll create and test our generator now. Things to note:\n",
    "* the augmentation object we created above is passed into Data Generator class\n",
    "* we just pass y_train twice, for the two y variables"
   ]
  },
  {
   "cell_type": "code",
   "execution_count": 5,
   "metadata": {},
   "outputs": [],
   "source": [
    "# create generator for our dataset\n",
    "datagen = DataGenerator(x_train, y_train, y_train, data_aug, batch_size=16)"
   ]
  },
  {
   "cell_type": "code",
   "execution_count": 6,
   "metadata": {},
   "outputs": [
    {
     "data": {
      "image/png": "[encoded data removed]",
      "text/plain": [
       "<Figure size 576x720 with 16 Axes>"
      ]
     },
     "metadata": {
      "needs_background": "light"
     },
     "output_type": "display_data"
    }
   ],
   "source": [
    "# lets just test how it works\n",
    "# will just get a random batch from here (just pick the first one)\n",
    "x_, y_ = datagen[1]\n",
    "fig = plt.figure(figsize=[8, 10])\n",
    "for i in range(0, 16):\n",
    "    ax = fig.add_subplot(4, 4, i + 1)\n",
    "    ax.imshow(x_[i, :,:,0])"
   ]
  },
  {
   "cell_type": "markdown",
   "metadata": {},
   "source": [
    "As expected, our augmentation is a little extreme. \n",
    "\n",
    "We'll now confirm that we have two y outptus, i.e. two set of layers. In our case this should return the same set of labels twice."
   ]
  },
  {
   "cell_type": "code",
   "execution_count": 7,
   "metadata": {},
   "outputs": [
    {
     "name": "stdout",
     "output_type": "stream",
     "text": [
      "[array([6, 3, 9, 7, 6, 3, 7, 7, 7, 1, 6, 5, 5, 1, 7, 2]), array([6, 3, 9, 7, 6, 3, 7, 7, 7, 1, 6, 5, 5, 1, 7, 2])]\n"
     ]
    }
   ],
   "source": [
    "print(y_)"
   ]
  },
  {
   "cell_type": "markdown",
   "metadata": {},
   "source": [
    "## Using the DataGenerator in Model Training\n",
    "\n",
    "We'll now train a simple model. This will be a very simple model, using a similar architecture to the second lecture example from week 10. Critically, it will have two outputs, but both outputs will be doing the same task. \n",
    "\n",
    "Again this isn't a demo of a proper model or multi-task learning. Is just here to demo that the image gen is working properly with multiple outputs."
   ]
  },
  {
   "cell_type": "code",
   "execution_count": 8,
   "metadata": {},
   "outputs": [
    {
     "name": "stdout",
     "output_type": "stream",
     "text": [
      "Model: \"fmnist_dummy_model\"\n",
      "__________________________________________________________________________________________________\n",
      "Layer (type)                    Output Shape         Param #     Connected to                     \n",
      "==================================================================================================\n",
      "img (InputLayer)                [(None, 28, 28, 1)]  0                                            \n",
      "__________________________________________________________________________________________________\n",
      "conv2d (Conv2D)                 (None, 26, 26, 8)    80          img[0][0]                        \n",
      "__________________________________________________________________________________________________\n",
      "max_pooling2d (MaxPooling2D)    (None, 13, 13, 8)    0           conv2d[0][0]                     \n",
      "__________________________________________________________________________________________________\n",
      "conv2d_1 (Conv2D)               (None, 11, 11, 16)   1168        max_pooling2d[0][0]              \n",
      "__________________________________________________________________________________________________\n",
      "max_pooling2d_1 (MaxPooling2D)  (None, 5, 5, 16)     0           conv2d_1[0][0]                   \n",
      "__________________________________________________________________________________________________\n",
      "conv2d_2 (Conv2D)               (None, 3, 3, 32)     4640        max_pooling2d_1[0][0]            \n",
      "__________________________________________________________________________________________________\n",
      "flatten (Flatten)               (None, 288)          0           conv2d_2[0][0]                   \n",
      "__________________________________________________________________________________________________\n",
      "dense (Dense)                   (None, 64)           18496       flatten[0][0]                    \n",
      "__________________________________________________________________________________________________\n",
      "dense_1 (Dense)                 (None, 64)           18496       flatten[0][0]                    \n",
      "__________________________________________________________________________________________________\n",
      "output1 (Dense)                 (None, 10)           650         dense[0][0]                      \n",
      "__________________________________________________________________________________________________\n",
      "output2 (Dense)                 (None, 10)           650         dense_1[0][0]                    \n",
      "==================================================================================================\n",
      "Total params: 44,180\n",
      "Trainable params: 44,180\n",
      "Non-trainable params: 0\n",
      "__________________________________________________________________________________________________\n"
     ]
    }
   ],
   "source": [
    "inputs = keras.Input(shape=(28, 28, 1, ), name='img')\n",
    "x = layers.Conv2D(filters=8, kernel_size=(3,3), activation='relu')(inputs)\n",
    "x = layers.MaxPool2D(pool_size=(2, 2))(x)\n",
    "x = layers.Conv2D(filters=16, kernel_size=(3,3), activation='relu')(x)\n",
    "x = layers.MaxPool2D(pool_size=(2, 2))(x)\n",
    "x = layers.Conv2D(filters=32, kernel_size=(3,3), activation='relu')(x)\n",
    "x = layers.Flatten()(x)\n",
    "x1 = layers.Dense(64, activation='relu')(x)\n",
    "output_1 = layers.Dense(10, name='output1')(x1)\n",
    "x2 = layers.Dense(64, activation='relu')(x)\n",
    "output_2 = layers.Dense(10, name='output2')(x2)\n",
    "\n",
    "model_cnn = keras.Model(inputs=inputs, outputs=[output_1, output_2], name='fmnist_dummy_model')\n",
    "model_cnn.summary()"
   ]
  },
  {
   "cell_type": "markdown",
   "metadata": {},
   "source": [
    "The key aprt now is that we pass to `fit` our data generator we created above, `datagen`.\n",
    "\n",
    "Note that the validation data is not from a generator, but is the regular test set (with y_test duplicated for the two outputs."
   ]
  },
  {
   "cell_type": "code",
   "execution_count": 9,
   "metadata": {},
   "outputs": [
    {
     "name": "stdout",
     "output_type": "stream",
     "text": [
      "Epoch 1/10\n",
      "187/187 [==============================] - 3s 11ms/step - loss: 4.5574 - output1_loss: 2.2825 - output2_loss: 2.2749 - val_loss: 4.0529 - val_output1_loss: 2.0323 - val_output2_loss: 2.0206\n",
      "Epoch 2/10\n",
      "187/187 [==============================] - 2s 8ms/step - loss: 4.3006 - output1_loss: 2.1513 - output2_loss: 2.1492 - val_loss: 3.9415 - val_output1_loss: 1.9789 - val_output2_loss: 1.9626\n",
      "Epoch 3/10\n",
      "187/187 [==============================] - 2s 8ms/step - loss: 4.2046 - output1_loss: 2.1048 - output2_loss: 2.0998 - val_loss: 3.5288 - val_output1_loss: 1.7699 - val_output2_loss: 1.7589\n",
      "Epoch 4/10\n",
      "187/187 [==============================] - 2s 9ms/step - loss: 4.0698 - output1_loss: 2.0380 - output2_loss: 2.0318 - val_loss: 3.1843 - val_output1_loss: 1.5917 - val_output2_loss: 1.5926\n",
      "Epoch 5/10\n",
      "187/187 [==============================] - 2s 9ms/step - loss: 3.9799 - output1_loss: 1.9897 - output2_loss: 1.9903 - val_loss: 3.1902 - val_output1_loss: 1.5922 - val_output2_loss: 1.5980\n",
      "Epoch 6/10\n",
      "187/187 [==============================] - 2s 9ms/step - loss: 3.8429 - output1_loss: 1.9211 - output2_loss: 1.9218 - val_loss: 3.1638 - val_output1_loss: 1.5825 - val_output2_loss: 1.5813\n",
      "Epoch 7/10\n",
      "187/187 [==============================] - 2s 12ms/step - loss: 3.7940 - output1_loss: 1.8969 - output2_loss: 1.8971 - val_loss: 3.1503 - val_output1_loss: 1.5682 - val_output2_loss: 1.5821\n",
      "Epoch 8/10\n",
      "187/187 [==============================] - 2s 13ms/step - loss: 3.8590 - output1_loss: 1.9319 - output2_loss: 1.9271 - val_loss: 3.0176 - val_output1_loss: 1.5027 - val_output2_loss: 1.5149\n",
      "Epoch 9/10\n",
      "187/187 [==============================] - 2s 13ms/step - loss: 3.7387 - output1_loss: 1.8699 - output2_loss: 1.8688 - val_loss: 2.7651 - val_output1_loss: 1.3977 - val_output2_loss: 1.3674\n",
      "Epoch 10/10\n",
      "187/187 [==============================] - 2s 11ms/step - loss: 3.6797 - output1_loss: 1.8392 - output2_loss: 1.8405 - val_loss: 2.7679 - val_output1_loss: 1.3814 - val_output2_loss: 1.3865\n"
     ]
    },
    {
     "data": {
      "text/plain": [
       "<tensorflow.python.keras.callbacks.History at 0x7f00c06bdcc0>"
      ]
     },
     "execution_count": 9,
     "metadata": {},
     "output_type": "execute_result"
    }
   ],
   "source": [
    "model_cnn.compile(loss=[keras.losses.SparseCategoricalCrossentropy(from_logits=True),\n",
    "                        keras.losses.SparseCategoricalCrossentropy(from_logits=True)],\n",
    "              optimizer=keras.optimizers.RMSprop())\n",
    "model_cnn.fit(datagen,\n",
    "          epochs=10,\n",
    "          validation_data=(x_test, [y_test, y_test]))"
   ]
  },
  {
   "cell_type": "markdown",
   "metadata": {},
   "source": [
    "We can see from above, our model trains. In this instance you really can ignore the losses - we're not training a serious model here (the data augmentation is too extreme, and we have the same task twice), but hopefully from the above you can see you could do this for real."
   ]
  }
 ],
 "metadata": {
  "kernelspec": {
   "display_name": "Python 3",
   "language": "python",
   "name": "python3"
  },
  "language_info": {
   "codemirror_mode": {
    "name": "ipython",
    "version": 3
   },
   "file_extension": ".py",
   "mimetype": "text/x-python",
   "name": "python",
   "nbconvert_exporter": "python",
   "pygments_lexer": "ipython3",
   "version": "3.6.9"
  }
 },
 "nbformat": 4,
 "nbformat_minor": 4
}
