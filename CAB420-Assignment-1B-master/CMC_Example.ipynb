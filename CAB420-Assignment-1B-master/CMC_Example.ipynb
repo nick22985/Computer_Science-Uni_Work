{
 "cells": [
  {
   "cell_type": "markdown",
   "metadata": {},
   "source": [
    "# CAB420: Cumulative Match Characteristic Curve Example\n",
    "Dr Simon Denman (s.denman@qut.edu.au)\n",
    "\n",
    "## Overview\n",
    "\n",
    "This simple example will demonstrate using a CMC curve to evalute matching performance. This is useful for a situation where we are performing a retrieval problem. \n",
    "\n",
    "In such a situation, we can consider our data as follows:\n",
    "* We have a bunch of examples, for which we've extracted some sort of representation. This representation might be an embedding from a deep network, or a feature vector obtained from PCA or LDA (or both). For each of these samples, know the ID of each sample. We'll call this the **gallery**.\n",
    "* We have another bunch of samples that we wish to match. For these we have the same type of features, and we need to compare these to the gallery images. We'll refer to these these samples as **probes**. In a live situation, we will not have IDs for these, however in an evaluation setting we may have samples.\n",
    "\n",
    "Note these two sets of data are not necessarily the same data that is used to train the underlying PCA, LDA or deep network.\n",
    "\n",
    "Given these two sets of data, we match each **probe** to the **gallery** in turn. To do this we\n",
    "* Compare the current probe to all gallery samples, obtaining the distance between them. A smaller distance means they are more similar.\n",
    "* Rank the gallery samples in order of similarity. The closest gallery sample is the sample that best matches the probe. The second closest probe sample is the second best match, and so on.\n",
    "* If we are evaluatin matching performance (i.e. have IDs for the probe samples), find the rank of the true match. Ideally, this will be 1 (i.e. the best match is the correct one).\n",
    "\n",
    "Once we have these matches, we can plot a cumulative match characteristic curve. This will show how ofter a rank of $n$ of better is achieved. \n",
    "\n",
    "This example will illustrate this process on very similar simulated data."
   ]
  },
  {
   "cell_type": "code",
   "execution_count": 1,
   "metadata": {},
   "outputs": [],
   "source": [
    "import numpy\n",
    "import matplotlib.pyplot as plt"
   ]
  },
  {
   "cell_type": "markdown",
   "metadata": {},
   "source": [
    "## Simple Data\n",
    "\n",
    "We will start be creating some data. For each identify, we will have 1 feature, i.e. a single number. That number will be the ID istself, plus some noise, which will come from the numpy random number generator."
   ]
  },
  {
   "cell_type": "code",
   "execution_count": 2,
   "metadata": {},
   "outputs": [
    {
     "name": "stdout",
     "output_type": "stream",
     "text": [
      "[1.41168699 2.25933536 2.66749024 1.98602832 3.53089272 5.11554551\n",
      " 7.25372434 8.52044495 8.58511706 9.87025873]\n",
      "[2.66124329 3.49365044 0.43377361 1.59978785 0.65809551 7.28412068\n",
      " 4.16967264 6.84382489 6.84930216 8.18083178]\n"
     ]
    }
   ],
   "source": [
    "num_ids = 10\n",
    "\n",
    "ID_1 = numpy.arange(0, num_ids, 1)\n",
    "ID_2 = numpy.arange(0, num_ids, 1)\n",
    "Feat_1 = ID_1 + (numpy.random.rand(num_ids) - 0.5)*4.0\n",
    "Feat_2 = ID_2 + (numpy.random.rand(num_ids) - 0.5)*8.0\n",
    "print(Feat_1)\n",
    "print(Feat_2)"
   ]
  },
  {
   "cell_type": "markdown",
   "metadata": {},
   "source": [
    "Our IDs start at 0, and the features are the ID plus some noise. With this is mind, consider the first entry in each of the feature arrays, `Feat_1` and `Feat_2`. Ideally, these should be `0`, but have been corrupted by noise. The ID in `Feat_1` that is closest to `Feat_2[0]` will be the gallery ID that best matches the probe, but this may not be the true match.\n",
    "\n",
    "## Matching and Ranking\n",
    "\n",
    "We will now compare each probe to the entire gallery. This will involve:\n",
    "* Get the distance between our current probe and all samples in the gallery. Here, we'll use L1 distance (which given we have 1 dimension is the same as the L2 distance)\n",
    "* Sort the distances\n",
    "* Find the index of the correct match\n",
    "\n",
    "We'll store a histogram of the correct match ranks."
   ]
  },
  {
   "cell_type": "code",
   "execution_count": 3,
   "metadata": {},
   "outputs": [
    {
     "name": "stdout",
     "output_type": "stream",
     "text": [
      "Searching for ID 0\n",
      "Distance between source feature and all target features:\n",
      "[1.24955629e+00 4.01907926e-01 6.24695220e-03 6.75214967e-01\n",
      " 8.69649435e-01 2.45430222e+00 4.59248105e+00 5.85920166e+00\n",
      " 5.92387377e+00 7.20901544e+00]\n",
      "Ranked IDs for query:\n",
      "[2 1 3 4 0 5 6 7 8 9]\n",
      "4\n",
      "\n",
      "Searching for ID 1\n",
      "Distance between source feature and all target features:\n",
      "[2.08196345 1.23431508 0.8261602  1.50762212 0.03724228 1.62189507\n",
      " 3.7600739  5.02679451 5.09146662 6.37660829]\n",
      "Ranked IDs for query:\n",
      "[4 2 1 3 5 0 6 7 8 9]\n",
      "2\n",
      "\n",
      "Searching for ID 2\n",
      "Distance between source feature and all target features:\n",
      "[0.97791338 1.82556175 2.23371663 1.55225471 3.09711911 4.6817719\n",
      " 6.81995073 8.08667134 8.15134345 9.43648512]\n",
      "Ranked IDs for query:\n",
      "[0 3 1 2 4 5 6 7 8 9]\n",
      "3\n",
      "\n",
      "Searching for ID 3\n",
      "Distance between source feature and all target features:\n",
      "[0.18810086 0.65954751 1.06770239 0.38624047 1.93110487 3.51575766\n",
      " 5.65393649 6.92065709 6.9853292  8.27047087]\n",
      "Ranked IDs for query:\n",
      "[0 3 1 2 4 5 6 7 8 9]\n",
      "1\n",
      "\n",
      "Searching for ID 4\n",
      "Distance between source feature and all target features:\n",
      "[0.75359148 1.60123985 2.00939473 1.32793281 2.87279721 4.45745\n",
      " 6.59562883 7.86234944 7.92702155 9.21216322]\n",
      "Ranked IDs for query:\n",
      "[0 3 1 2 4 5 6 7 8 9]\n",
      "4\n",
      "\n",
      "Searching for ID 5\n",
      "Distance between source feature and all target features:\n",
      "[5.87243369 5.02478532 4.61663044 5.29809236 3.75322796 2.16857517\n",
      " 0.03039634 1.23632427 1.30099638 2.58613805]\n",
      "Ranked IDs for query:\n",
      "[6 7 8 5 9 4 2 1 3 0]\n",
      "3\n",
      "\n",
      "Searching for ID 6\n",
      "Distance between source feature and all target features:\n",
      "[2.75798565 1.91033728 1.5021824  2.18364432 0.63877992 0.94587287\n",
      " 3.0840517  4.3507723  4.41544441 5.70058608]\n",
      "Ranked IDs for query:\n",
      "[4 5 2 1 3 0 6 7 8 9]\n",
      "6\n",
      "\n",
      "Searching for ID 7\n",
      "Distance between source feature and all target features:\n",
      "[5.4321379  4.58448953 4.17633465 4.85779657 3.31293217 1.72827938\n",
      " 0.40989945 1.67662005 1.74129216 3.02643383]\n",
      "Ranked IDs for query:\n",
      "[6 7 5 8 9 4 2 1 3 0]\n",
      "1\n",
      "\n",
      "Searching for ID 8\n",
      "Distance between source feature and all target features:\n",
      "[5.43761517 4.5899668  4.18181193 4.86327385 3.31840944 1.73375666\n",
      " 0.40442217 1.67114278 1.73581489 3.02095656]\n",
      "Ranked IDs for query:\n",
      "[6 7 5 8 9 4 2 1 3 0]\n",
      "3\n",
      "\n",
      "Searching for ID 9\n",
      "Distance between source feature and all target features:\n",
      "[6.76914479 5.92149642 5.51334154 6.19480346 4.64993906 3.06528627\n",
      " 0.92710744 0.33961316 0.40428527 1.68942694]\n",
      "Ranked IDs for query:\n",
      "[7 8 6 9 5 4 2 1 3 0]\n",
      "3\n",
      "\n",
      "[0. 2. 1. 4. 2. 0. 1. 0. 0. 0.]\n"
     ]
    }
   ],
   "source": [
    "# storage for ranked histogram\n",
    "ranked_histogram = numpy.zeros(num_ids)\n",
    "\n",
    "# loop over all IDs in the probe set\n",
    "for i in range(len(ID_2)):\n",
    "    # get the true ID of this sample\n",
    "    true_ID = ID_2[i]\n",
    "    print('Searching for ID %d' % (true_ID))\n",
    "\n",
    "    # get the distance between the current probe and the whole gallery, L1 distance here. Note that L1\n",
    "    # may not always be the best choice, so consider your distance metric given your problem\n",
    "    dist = numpy.abs(Feat_2[i] - Feat_1)\n",
    "    print('Distance between source feature and all target features:')\n",
    "    print(dist)\n",
    "\n",
    "    # get the sorted order of the distances\n",
    "    a = numpy.argsort(dist)\n",
    "    # apply the order to the gallery IDs, such that the first ID in the list is the closest, the second\n",
    "    # ID is the second closest, and so on\n",
    "    ranked = ID_1[a]\n",
    "    print('Ranked IDs for query:')\n",
    "    print(a)\n",
    "\n",
    "    # find the location of the True Match in the ranked list\n",
    "    ranked_result = numpy.where(ranked == true_ID)[0][0]\n",
    "    print(ranked_result)\n",
    "\n",
    "    # store the ranking result in the histogram\n",
    "    ranked_histogram[ranked_result] += 1\n",
    "    print('')\n",
    "    \n",
    "print(ranked_histogram)"
   ]
  },
  {
   "cell_type": "markdown",
   "metadata": {},
   "source": [
    "## CMC Curve\n",
    "\n",
    "Our ranked histogram is not quite the end result. This tells us how many times the true match was the closest sample, how many times it was second closest, and so on.\n",
    "\n",
    "It's more useful to know how many times the true match was one of the top two matches, or top five matches. We refer to this as Rank-N. For example, Rank-5 means that the correct match was within the top five returned results.\n",
    "\n",
    "The CMC can be obtained by performing a cumulative sum on the histogram we calculated above, such that:\n",
    "\n",
    "$CMC_{N} = \\sum_{i=1}^{N} r(i)$\n",
    "\n",
    "where:\n",
    "* $N$ is the rank we wish to calculate\n",
    "* $r$ is our ranked histogram from the previous step"
   ]
  },
  {
   "cell_type": "code",
   "execution_count": 4,
   "metadata": {},
   "outputs": [
    {
     "name": "stdout",
     "output_type": "stream",
     "text": [
      "[ 0.  2.  3.  7.  9.  9. 10. 10. 10. 10.]\n"
     ]
    }
   ],
   "source": [
    "cmc = numpy.zeros(num_ids)\n",
    "for i in range(num_ids):\n",
    "    cmc[i] = numpy.sum(ranked_histogram[:(i + 1)])\n",
    "    \n",
    "print(cmc)"
   ]
  },
  {
   "cell_type": "code",
   "execution_count": 5,
   "metadata": {},
   "outputs": [
    {
     "data": {
      "text/plain": [
       "Text(0.5, 1.0, 'CMC Curve')"
      ]
     },
     "execution_count": 5,
     "metadata": {},
     "output_type": "execute_result"
    },
    {
     "data": {
      "image/png": "[encoded data removed]",
      "text/plain": [
       "<Figure size 1440x576 with 2 Axes>"
      ]
     },
     "metadata": {
      "needs_background": "light"
     },
     "output_type": "display_data"
    }
   ],
   "source": [
    "fig = plt.figure(figsize=[20, 8])\n",
    "ax = fig.add_subplot(1, 2, 1)\n",
    "ax.plot(cmc)\n",
    "ax.set_xlabel('Rank')\n",
    "ax.set_ylabel('Count')\n",
    "ax.set_title('CMC Curve')\n",
    "ax = fig.add_subplot(1, 2, 2)\n",
    "ax.plot(cmc/num_ids)\n",
    "ax.set_xlabel('Rank')\n",
    "ax.set_ylabel('Count')\n",
    "ax.set_title('CMC Curve')"
   ]
  },
  {
   "cell_type": "markdown",
   "metadata": {},
   "source": [
    "We typically plot CMC, and ideal performance is much like an ROC curve, where we want the curve to get as close to the top right corner possible (higher accuracy at lowest possible rank).\n",
    "\n",
    "Often, we'll plot the curves as a percentage rather than raw counts, as shown on the right. This allows to report things like X% accuracy for Rank-5 retrieval.\n",
    "\n",
    "## Things to Note\n",
    "\n",
    "Keep in mind, this is a very simple example using 1D features, and is really just here to illustrate how to calculate rank accuracy and plot and CMC curve. It's highly unlikely for a start that you'll be using feature vectors with one value, but the general approach shown here will hold."
   ]
  },
  {
   "cell_type": "code",
   "execution_count": null,
   "metadata": {},
   "outputs": [],
   "source": [
    " "
   ]
  }
 ],
 "metadata": {
  "kernelspec": {
   "display_name": "Python 3",
   "language": "python",
   "name": "python3"
  },
  "language_info": {
   "codemirror_mode": {
    "name": "ipython",
    "version": 3
   },
   "file_extension": ".py",
   "mimetype": "text/x-python",
   "name": "python",
   "nbconvert_exporter": "python",
   "pygments_lexer": "ipython3",
   "version": "3.6.9"
  }
 },
 "nbformat": 4,
 "nbformat_minor": 4
}
